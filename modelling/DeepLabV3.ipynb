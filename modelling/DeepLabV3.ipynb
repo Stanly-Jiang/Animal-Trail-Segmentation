{
  "cells": [
    {
      "cell_type": "markdown",
      "metadata": {
        "id": "-aHAC2_8Rr7d"
      },
      "source": [
        "**Training & Setup**"
      ]
    },
    {
      "cell_type": "code",
      "execution_count": null,
      "metadata": {
        "colab": {
          "base_uri": "https://localhost:8080/"
        },
        "id": "GhYhC0XcOLa1",
        "outputId": "e8bc760f-4b72-432a-da31-ee8e782a9014"
      },
      "outputs": [],
      "source": [
        "# https://medium.com/@ashwindesilva/how-to-use-google-colaboratory-to-clone-a-github-repository-e07cf8d3d22b\n",
        "\n",
        "from google.colab import drive\n",
        "drive.mount(\"/content/gdrive\")\n",
        "!ls\n",
        "%cd /content/gdrive/MyDrive/DeepLabV3\n",
        "!ls\n",
        "!git clone https://github.com/msminhas93/DeepLabv3FineTuning\n",
        "%cd /content/gdrive/MyDrive/DeepLabV3/DeepLabv3FineTuning\n",
        "!ls"
      ]
    },
    {
      "cell_type": "code",
      "execution_count": null,
      "metadata": {
        "colab": {
          "base_uri": "https://localhost:8080/"
        },
        "id": "mmm6H98HVkXb",
        "outputId": "7cc915e2-d4ef-4776-933e-af8e519bd075"
      },
      "outputs": [],
      "source": [
        "!ls \n",
        "!pip install -r requirements.txt"
      ]
    },
    {
      "cell_type": "code",
      "execution_count": null,
      "metadata": {
        "id": "apcKM10SWnEx"
      },
      "outputs": [],
      "source": [
        "%cd /content/gdrive/MyDrive/DeepLabV3/DeepLabv3FineTuning\n",
        "!ls\n",
        "! python main.py --data-directory data --exp_directory output --epochs 40 --batch-size 4"
      ]
    },
    {
      "cell_type": "markdown",
      "metadata": {
        "id": "fNeNXM2z33Rs"
      },
      "source": [
        "**EVALUTATION**"
      ]
    },
    {
      "cell_type": "code",
      "execution_count": null,
      "metadata": {
        "id": "Q8K6uUwk2e9L"
      },
      "outputs": [],
      "source": [
        "import torch\n",
        "import matplotlib.pyplot as plt\n",
        "import cv2\n",
        "import pandas as pd\n",
        "\n",
        "# Load the trained model \n",
        "#model = torch.load('./CFExp/weights.pt')\n",
        "model = torch.load('./output/weights.pt')\n",
        "# Set the model to evaluate mode\n",
        "model.eval()"
      ]
    },
    {
      "cell_type": "code",
      "execution_count": null,
      "metadata": {
        "id": "KA3mlHR32mEt"
      },
      "outputs": [],
      "source": [
        "ino = 50\n",
        "# Read  a sample image and mask from the data-set (ino is index no.)\n",
        "\n",
        "img = cv2.imread(f'./data/Images/{ino:03d}.jpg').transpose(2,0,1).reshape(1,3,512,512)\n",
        "mask = cv2.imread(f'./data/Masks/{ino:03d}_label.PNG')\n",
        "with torch.no_grad():\n",
        "    a = model(torch.from_numpy(img).type(torch.cuda.FloatTensor)/255)\n",
        "\n",
        "'''\n",
        "img = cv2.imread(f'./CrackForest/Images/{ino:03d}.jpg').transpose(2,0,1).reshape(1,3,320,480)\n",
        "mask = cv2.imread(f'./CrackForest/Masks/{ino:03d}_label.PNG')\n",
        "with torch.no_grad():\n",
        "    a = model(torch.from_numpy(img).type(torch.cuda.FloatTensor)/255)\n",
        "'''"
      ]
    },
    {
      "cell_type": "code",
      "execution_count": null,
      "metadata": {
        "id": "-reWCJDM27yN"
      },
      "outputs": [],
      "source": [
        "# Plot the input image, ground truth and the predicted output\n",
        "plt.figure(figsize=(10,10));\n",
        "plt.subplot(131);\n",
        "plt.imshow(img[0,...].transpose(1,2,0));\n",
        "plt.title('Image')\n",
        "plt.axis('off');\n",
        "plt.subplot(132);\n",
        "plt.imshow(mask);\n",
        "plt.title('Ground Truth')\n",
        "plt.axis('off');\n",
        "plt.subplot(133);\n",
        "plt.imshow(a['out'].cpu().detach().numpy()[0][0]>0.2);\n",
        "plt.title('Segmentation Output')\n",
        "plt.axis('off');\n",
        "plt.savefig('./SegmentationOutput.png',bbox_inches='tight')"
      ]
    }
  ],
  "metadata": {
    "accelerator": "GPU",
    "colab": {
      "provenance": []
    },
    "gpuClass": "standard",
    "kernelspec": {
      "display_name": "Python 3",
      "name": "python3"
    },
    "language_info": {
      "name": "python"
    }
  },
  "nbformat": 4,
  "nbformat_minor": 0
}
